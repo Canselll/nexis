{
 "cells": [
  {
   "cell_type": "markdown",
   "id": "c0aee621-0bf7-4a87-beab-733f0bd74e1b",
   "metadata": {},
   "source": [
    "# Generate Key"
   ]
  },
  {
   "cell_type": "code",
   "execution_count": 1,
   "id": "91b6acf9-10a5-4afa-ab71-1e8d45ae239f",
   "metadata": {},
   "outputs": [],
   "source": [
    "from cryptography.fernet import Fernet\n",
    "key = Fernet.generate_key()"
   ]
  },
  {
   "cell_type": "markdown",
   "id": "070a0d9b-a61e-4f66-b2c0-40e8e1a75a51",
   "metadata": {},
   "source": [
    "# Encryption"
   ]
  },
  {
   "cell_type": "code",
   "execution_count": 17,
   "id": "8703de6b-5e54-46cb-bc33-2e3367ee3950",
   "metadata": {},
   "outputs": [
    {
     "data": {
      "text/plain": [
       "b'gAAAAABi0aiAr_oBgwAOAaM6o75MxD7_elJWTR4hpN7T7C_0Sbc_Vb0hk9UPZsDho3c1Pc-vrAcHNnxJ67cHW-W4iO49XlYU4Q=='"
      ]
     },
     "execution_count": 17,
     "metadata": {},
     "output_type": "execute_result"
    }
   ],
   "source": [
    "message = \"MyPassword\".encode()\n",
    "\n",
    "f = Fernet(key)\n",
    "encrypted = f.encrypt(message)  # Encrypt the bytes. The returning object is of type bytes\n",
    "encrypted"
   ]
  },
  {
   "cell_type": "markdown",
   "id": "3579ff10-c34f-4bed-9b44-74776b7e0b03",
   "metadata": {},
   "source": [
    "# Decryption"
   ]
  },
  {
   "cell_type": "code",
   "execution_count": 18,
   "id": "2ce12220-f3b7-4d11-a4c2-7c4e374b19a5",
   "metadata": {},
   "outputs": [
    {
     "data": {
      "text/plain": [
       "b'MyPassword'"
      ]
     },
     "execution_count": 18,
     "metadata": {},
     "output_type": "execute_result"
    }
   ],
   "source": [
    "from cryptography.fernet import Fernet\n",
    "\n",
    "f = Fernet(key)\n",
    "decrypted = f.decrypt(encrypted)  # Decrypt the bytes. The returning object is of type bytes\n",
    "decrypted"
   ]
  },
  {
   "cell_type": "markdown",
   "id": "4429ce17-8828-4387-9083-8daa5cd0dfdc",
   "metadata": {},
   "source": [
    "# Create File"
   ]
  },
  {
   "cell_type": "code",
   "execution_count": 4,
   "id": "a40e7294-62d1-4e9c-be88-c02e7db36cc4",
   "metadata": {},
   "outputs": [],
   "source": [
    "file = open('key.encrypted', 'wb')  # Open the file as wb to write bytes\n",
    "file.write(key)  # The key is type bytes still\n",
    "file.close()"
   ]
  },
  {
   "cell_type": "markdown",
   "id": "da603025-5c91-4258-aeec-914071bd4928",
   "metadata": {},
   "source": [
    "# Read File"
   ]
  },
  {
   "cell_type": "code",
   "execution_count": 5,
   "id": "9c743196-3fcf-473c-ab11-2aef3738d870",
   "metadata": {},
   "outputs": [],
   "source": [
    "file = open('key.encrypted', 'rb')  # Open the file as wb to read bytes\n",
    "key = file.read()  # The key will be type bytes\n",
    "file.close()"
   ]
  },
  {
   "cell_type": "markdown",
   "id": "39bd8dd5-7d67-445c-93cb-dd646428b801",
   "metadata": {},
   "source": [
    "# Function"
   ]
  },
  {
   "cell_type": "code",
   "execution_count": 2,
   "id": "681bcc39-e247-4c71-bf73-da076aa7fcb8",
   "metadata": {},
   "outputs": [
    {
     "data": {
      "text/plain": [
       "'3.4.7'"
      ]
     },
     "execution_count": 2,
     "metadata": {},
     "output_type": "execute_result"
    }
   ],
   "source": [
    "import cryptography\n",
    "cryptography.__version__"
   ]
  },
  {
   "cell_type": "code",
   "execution_count": 3,
   "id": "ca3cbbf9-304e-4c14-ac1a-64823285b4f8",
   "metadata": {},
   "outputs": [],
   "source": [
    "def create_encryption(password, key):    \n",
    "    \n",
    "    f = Fernet(key)\n",
    "    \n",
    "    password_encoded = password.encode()\n",
    "\n",
    "    encrypted = f.encrypt(password_encoded)\n",
    "    decrypted = f.decrypt(encrypted)\n",
    "    \n",
    "    print(f\"Byte: {password_encoded}\")\n",
    "    print(f\"String: {password}\")\n",
    "    print(f\"Encrypted: {encrypted}\")\n",
    "    print(f\"Decrypted: {decrypted.decode()}\")"
   ]
  },
  {
   "cell_type": "code",
   "execution_count": 7,
   "id": "74a28c0a-afaf-4d2b-8980-2766fdac7654",
   "metadata": {},
   "outputs": [],
   "source": [
    "key = ''"
   ]
  },
  {
   "cell_type": "code",
   "execution_count": 13,
   "id": "c772fc10-4cb4-4880-8ccb-8d1a07ceeda5",
   "metadata": {},
   "outputs": [
    {
     "name": "stdout",
     "output_type": "stream",
     "text": [
      "Byte: b'postgres'\n",
      "String: postgres\n",
      "Encrypted: b'gAAAAABlDXgJu5zfMan1I3LfuYcuJ_W5dT72c7jYgb1u-nBQ7HH6ANCuU2897CpQJm5zPewd02MBNHvhKEsZF7FmP7qlqnLgOA=='\n",
      "Decrypted: postgres\n"
     ]
    }
   ],
   "source": [
    "create_encryption('postgres', key)"
   ]
  },
  {
   "cell_type": "code",
   "execution_count": 10,
   "id": "22464e1c-6ace-4ec4-a702-f75a043edef2",
   "metadata": {},
   "outputs": [],
   "source": [
    "def decrypt(key, encrypted_password):\n",
    "    \"\"\"\n",
    "    key: String Format\n",
    "    encrypted_password: Byte Format\n",
    "    \"\"\"\n",
    "    f = Fernet(key)\n",
    "    decrypted = f.decrypt(encrypted_password)\n",
    "\n",
    "    return decrypted.decode()\n",
    "    "
   ]
  },
  {
   "cell_type": "code",
   "execution_count": 12,
   "id": "0e85f911-36a1-4d3f-88dc-14ac2d9dc86d",
   "metadata": {},
   "outputs": [
    {
     "data": {
      "text/plain": [
       "'postgres'"
      ]
     },
     "execution_count": 12,
     "metadata": {},
     "output_type": "execute_result"
    }
   ],
   "source": [
    "decrypt(key, b'gAAAAABkdHPP-lCgEORrR-TbN-lDi1ClcITeo4Bpf8QSs14fYWz_uO6mpyxVkcqTjAKdrIYnDPbNSFO4j-PN8BG0dp9OaqzoqA==')"
   ]
  },
  {
   "cell_type": "code",
   "execution_count": null,
   "id": "0b18a9ea-3476-4c58-9f66-e3d0c9cad21f",
   "metadata": {},
   "outputs": [],
   "source": []
  },
  {
   "cell_type": "code",
   "execution_count": null,
   "id": "cd4c2cc4-cb3c-498e-998c-4fc04164c029",
   "metadata": {},
   "outputs": [],
   "source": []
  },
  {
   "cell_type": "code",
   "execution_count": null,
   "id": "458e9d22-9a3a-442e-b630-f7ce92787fbe",
   "metadata": {},
   "outputs": [],
   "source": []
  }
 ],
 "metadata": {
  "kernelspec": {
   "display_name": "Python 3",
   "language": "python",
   "name": "python3"
  },
  "language_info": {
   "codemirror_mode": {
    "name": "ipython",
    "version": 3
   },
   "file_extension": ".py",
   "mimetype": "text/x-python",
   "name": "python",
   "nbconvert_exporter": "python",
   "pygments_lexer": "ipython3",
   "version": "3.8.8"
  }
 },
 "nbformat": 4,
 "nbformat_minor": 5
}
