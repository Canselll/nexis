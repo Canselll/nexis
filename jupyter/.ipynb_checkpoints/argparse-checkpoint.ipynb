{
 "cells": [
  {
   "cell_type": "code",
   "execution_count": 2,
   "id": "c453cf12-7b4a-4fd2-bde6-49ed1eb4d270",
   "metadata": {},
   "outputs": [
    {
     "name": "stdout",
     "output_type": "stream",
     "text": [
      "shell-init: error retrieving current directory: getcwd: cannot access parent directories: No such file or directory\n",
      "Traceback (most recent call last):\n",
      "  File \"/opt/conda/envs/abr/lib/python3.10/runpy.py\", line 196, in _run_module_as_main\n",
      "    return _run_code(code, main_globals, None,\n",
      "  File \"/opt/conda/envs/abr/lib/python3.10/runpy.py\", line 86, in _run_code\n",
      "    exec(code, run_globals)\n",
      "  File \"/opt/conda/envs/abr/lib/python3.10/site-packages/pip/__main__.py\", line 8, in <module>\n",
      "    if sys.path[0] in (\"\", os.getcwd()):\n",
      "FileNotFoundError: [Errno 2] No such file or directory\n",
      "Note: you may need to restart the kernel to use updated packages.\n"
     ]
    }
   ],
   "source": [
    "pip install argparse"
   ]
  },
  {
   "cell_type": "code",
   "execution_count": 4,
   "id": "31268192-45e0-45d9-88a7-515a00f2d7a3",
   "metadata": {},
   "outputs": [],
   "source": [
    "import argparse"
   ]
  },
  {
   "cell_type": "code",
   "execution_count": null,
   "id": "65538816-3183-41b7-af7f-2319786b541f",
   "metadata": {},
   "outputs": [],
   "source": [
    "# Set your key here (e.g. store this key somewhere)\n",
    "# You can also get the key from a file or environmental variables.\n",
    "key = ''  # Replace this key with a real key\n",
    "\n",
    "# Create command line arguments\n",
    "parser = argparse.ArgumentParser()\n",
    "\n",
    "# Add arguments\n",
    "parser.add_argument('--env', type=str, required=True, help='Environment')\n",
    "parser.add_argument('--key', type=str, required=True, help='Encrypted key')\n",
    "\n",
    "# Parse arguments\n",
    "args = parser.parse_args()\n"
   ]
  }
 ],
 "metadata": {
  "kernelspec": {
   "display_name": "ABR",
   "language": "python",
   "name": "abr"
  },
  "language_info": {
   "codemirror_mode": {
    "name": "ipython",
    "version": 3
   },
   "file_extension": ".py",
   "mimetype": "text/x-python",
   "name": "python",
   "nbconvert_exporter": "python",
   "pygments_lexer": "ipython3",
   "version": "3.10.8"
  }
 },
 "nbformat": 4,
 "nbformat_minor": 5
}
