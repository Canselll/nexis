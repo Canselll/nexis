{
 "cells": [
  {
   "cell_type": "code",
   "execution_count": 1,
   "id": "e624c9ce-6cbf-4600-a31b-beb407f7b725",
   "metadata": {},
   "outputs": [],
   "source": [
    "from cryptography.fernet import Fernet\n",
    "\n",
    "# Şifreleme anahtarını oluştur\n",
    "def generate_key():\n",
    "    return Fernet.generate_key()\n",
    "\n",
    "# Şifreleme fonksiyonu\n",
    "def encrypt_message(message, key):\n",
    "    fernet = Fernet(key)\n",
    "    encrypted = fernet.encrypt(message.encode())\n",
    "    return encrypted\n",
    "\n",
    "# Şifre çözme fonksiyonu\n",
    "def decrypt_message(encrypted_message, key):\n",
    "    fernet = Fernet(key)\n",
    "    decrypted = fernet.decrypt(encrypted_message).decode()\n",
    "    return decrypted\n"
   ]
  },
  {
   "cell_type": "code",
   "execution_count": 2,
   "id": "21566a4a-18e2-458f-a1ee-7687169f4a24",
   "metadata": {},
   "outputs": [
    {
     "data": {
      "text/plain": [
       "b'4S-4k19nLkxByk-B7qY0d-I2Fl0z-jI95qX6tK2grDg='"
      ]
     },
     "execution_count": 2,
     "metadata": {},
     "output_type": "execute_result"
    }
   ],
   "source": [
    "generate_key()"
   ]
  },
  {
   "cell_type": "code",
   "execution_count": 20,
   "id": "bd0bb370-3991-4e49-a8a7-4baae3040beb",
   "metadata": {},
   "outputs": [],
   "source": [
    "key = b'4S-4k19nLkxByk-B7qY0d-I2Fl0z-jI95qX6tK2grDg='"
   ]
  },
  {
   "cell_type": "code",
   "execution_count": 21,
   "id": "17727a87-9577-4b64-8fb6-41be6e42d3a0",
   "metadata": {},
   "outputs": [],
   "source": [
    "encrypt_password = encrypt_message(\"1009\",key)"
   ]
  },
  {
   "cell_type": "code",
   "execution_count": 22,
   "id": "0af5669c-22cb-4edb-b9e0-501fb6864f52",
   "metadata": {},
   "outputs": [
    {
     "data": {
      "text/plain": [
       "b'gAAAAABmp0XEY-YOQcw-zA9C_rJtzP_chAi6tlbfM5vjaUDwVUITIp7OAu4pgdFGY4GUyA-efMOUr3EQ3F5BUdYjQkd2CDFFTA=='"
      ]
     },
     "execution_count": 22,
     "metadata": {},
     "output_type": "execute_result"
    }
   ],
   "source": [
    "encrypt_password"
   ]
  },
  {
   "cell_type": "code",
   "execution_count": 6,
   "id": "e8e07fdb-b6ec-4e60-8da7-081e069c5ab4",
   "metadata": {},
   "outputs": [],
   "source": [
    "encrypt_api_key =  encrypt_message(\"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\",key)"
   ]
  },
  {
   "cell_type": "code",
   "execution_count": 7,
   "id": "da8dade9-ef22-4429-a10f-0fb6728ae612",
   "metadata": {},
   "outputs": [
    {
     "data": {
      "text/plain": [
       "b'gAAAAABmpz7lcd4njKmau0Y5M0Ganx4qhIakYk_jZ2Hw8ihjhhiGr53jyUma0eL4Sa4FYHJIY3m6TjaNKK1LLVyNlxCeg3niwQA0AoGKPGFY2PtFlHqOvCD0BbiVKbXktUbmoAtKA043MqX0ZOYO14s1hVJOgwrl7Q=='"
      ]
     },
     "execution_count": 7,
     "metadata": {},
     "output_type": "execute_result"
    }
   ],
   "source": [
    "encrypt_api_key"
   ]
  },
  {
   "cell_type": "code",
   "execution_count": 15,
   "id": "d405cc26-c461-4fa2-82a1-38294d26ccdd",
   "metadata": {},
   "outputs": [],
   "source": [
    "config = {\"POSTGRES\": {\n",
    "                    'user': 'postgres',\n",
    "                    'password': b'gAAAAABmpz7XiDp8byGckyUcuEi5MA4uVkcfvDWAz2Kuj-kKBq4yKy2-OHKd_AVMHTYnSYZpRzyjdyJQ8fvLmIF4xf46vCKc8w==',\n",
    "                    'host': 'postgres',\n",
    "                    'port': '5432',\n",
    "                    'dbname': 'postgres'\n",
    "                }}\n",
    "                "
   ]
  },
  {
   "cell_type": "code",
   "execution_count": 10,
   "id": "e3b2992e-a8f6-463b-8490-b18dcfa59fb5",
   "metadata": {},
   "outputs": [],
   "source": [
    "config[\"POSTGRES\"][\"password\"] = decrypt_message(config[\"POSTGRES\"][\"password\"], key)"
   ]
  },
  {
   "cell_type": "code",
   "execution_count": 11,
   "id": "ecc1dc35-4d8f-45c2-aaf6-43ab92c7d79c",
   "metadata": {},
   "outputs": [
    {
     "data": {
      "text/plain": [
       "'1009'"
      ]
     },
     "execution_count": 11,
     "metadata": {},
     "output_type": "execute_result"
    }
   ],
   "source": [
    "config[\"POSTGRES\"][\"password\"]"
   ]
  },
  {
   "cell_type": "code",
   "execution_count": null,
   "id": "bbd86248-ea60-4966-af41-075d41c4d392",
   "metadata": {},
   "outputs": [],
   "source": []
  },
  {
   "cell_type": "code",
   "execution_count": null,
   "id": "8555d683-be2e-41c8-ac2f-5763cfa486cf",
   "metadata": {},
   "outputs": [],
   "source": []
  },
  {
   "cell_type": "code",
   "execution_count": 23,
   "id": "26c76df7-2c5f-49d1-a7ed-5fb8077ac970",
   "metadata": {},
   "outputs": [],
   "source": [
    "password = b'gAAAAABmp0XEY-YOQcw-zA9C_rJtzP_chAi6tlbfM5vjaUDwVUITIp7OAu4pgdFGY4GUyA-efMOUr3EQ3F5BUdYjQkd2CDFFTA=='\n",
    "key = b'b4S-4k19nLkxByk-B7qY0d-I2Fl0z-jI95qX6tK2grDg='"
   ]
  },
  {
   "cell_type": "code",
   "execution_count": 24,
   "id": "9a688b0e-52d0-4e8f-ad74-1610fdb74a99",
   "metadata": {},
   "outputs": [
    {
     "ename": "ValueError",
     "evalue": "Fernet key must be 32 url-safe base64-encoded bytes.",
     "output_type": "error",
     "traceback": [
      "\u001b[0;31m---------------------------------------------------------------------------\u001b[0m",
      "\u001b[0;31mValueError\u001b[0m                                Traceback (most recent call last)",
      "Cell \u001b[0;32mIn[24], line 1\u001b[0m\n\u001b[0;32m----> 1\u001b[0m \u001b[43mdecrypt_message\u001b[49m\u001b[43m(\u001b[49m\u001b[43mpassword\u001b[49m\u001b[43m,\u001b[49m\u001b[43m \u001b[49m\u001b[43mkey\u001b[49m\u001b[43m)\u001b[49m\n",
      "Cell \u001b[0;32mIn[1], line 15\u001b[0m, in \u001b[0;36mdecrypt_message\u001b[0;34m(encrypted_message, key)\u001b[0m\n\u001b[1;32m     14\u001b[0m \u001b[38;5;28;01mdef\u001b[39;00m \u001b[38;5;21mdecrypt_message\u001b[39m(encrypted_message, key):\n\u001b[0;32m---> 15\u001b[0m     fernet \u001b[38;5;241m=\u001b[39m \u001b[43mFernet\u001b[49m\u001b[43m(\u001b[49m\u001b[43mkey\u001b[49m\u001b[43m)\u001b[49m\n\u001b[1;32m     16\u001b[0m     decrypted \u001b[38;5;241m=\u001b[39m fernet\u001b[38;5;241m.\u001b[39mdecrypt(encrypted_message)\u001b[38;5;241m.\u001b[39mdecode()\n\u001b[1;32m     17\u001b[0m     \u001b[38;5;28;01mreturn\u001b[39;00m decrypted\n",
      "File \u001b[0;32m~/.local/lib/python3.10/site-packages/cryptography/fernet.py:40\u001b[0m, in \u001b[0;36mFernet.__init__\u001b[0;34m(self, key, backend)\u001b[0m\n\u001b[1;32m     36\u001b[0m     \u001b[38;5;28;01mraise\u001b[39;00m \u001b[38;5;167;01mValueError\u001b[39;00m(\n\u001b[1;32m     37\u001b[0m         \u001b[38;5;124m\"\u001b[39m\u001b[38;5;124mFernet key must be 32 url-safe base64-encoded bytes.\u001b[39m\u001b[38;5;124m\"\u001b[39m\n\u001b[1;32m     38\u001b[0m     ) \u001b[38;5;28;01mfrom\u001b[39;00m \u001b[38;5;21;01mexc\u001b[39;00m\n\u001b[1;32m     39\u001b[0m \u001b[38;5;28;01mif\u001b[39;00m \u001b[38;5;28mlen\u001b[39m(key) \u001b[38;5;241m!=\u001b[39m \u001b[38;5;241m32\u001b[39m:\n\u001b[0;32m---> 40\u001b[0m     \u001b[38;5;28;01mraise\u001b[39;00m \u001b[38;5;167;01mValueError\u001b[39;00m(\n\u001b[1;32m     41\u001b[0m         \u001b[38;5;124m\"\u001b[39m\u001b[38;5;124mFernet key must be 32 url-safe base64-encoded bytes.\u001b[39m\u001b[38;5;124m\"\u001b[39m\n\u001b[1;32m     42\u001b[0m     )\n\u001b[1;32m     44\u001b[0m \u001b[38;5;28mself\u001b[39m\u001b[38;5;241m.\u001b[39m_signing_key \u001b[38;5;241m=\u001b[39m key[:\u001b[38;5;241m16\u001b[39m]\n\u001b[1;32m     45\u001b[0m \u001b[38;5;28mself\u001b[39m\u001b[38;5;241m.\u001b[39m_encryption_key \u001b[38;5;241m=\u001b[39m key[\u001b[38;5;241m16\u001b[39m:]\n",
      "\u001b[0;31mValueError\u001b[0m: Fernet key must be 32 url-safe base64-encoded bytes."
     ]
    }
   ],
   "source": [
    "decrypt_message(password, key)"
   ]
  },
  {
   "cell_type": "code",
   "execution_count": null,
   "id": "8edc60a4-1bbd-4403-b8f1-2f8f1b388db8",
   "metadata": {},
   "outputs": [],
   "source": []
  }
 ],
 "metadata": {
  "kernelspec": {
   "display_name": "ABR",
   "language": "python",
   "name": "abr"
  },
  "language_info": {
   "codemirror_mode": {
    "name": "ipython",
    "version": 3
   },
   "file_extension": ".py",
   "mimetype": "text/x-python",
   "name": "python",
   "nbconvert_exporter": "python",
   "pygments_lexer": "ipython3",
   "version": "3.10.8"
  }
 },
 "nbformat": 4,
 "nbformat_minor": 5
}
