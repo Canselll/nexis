{
 "cells": [
  {
   "cell_type": "markdown",
   "id": "c0aee621-0bf7-4a87-beab-733f0bd74e1b",
   "metadata": {},
   "source": [
    "# Generate Key"
   ]
  },
  {
   "cell_type": "code",
   "execution_count": 1,
   "id": "91b6acf9-10a5-4afa-ab71-1e8d45ae239f",
   "metadata": {},
   "outputs": [],
   "source": [
    "from cryptography.fernet import Fernet\n",
    "key = Fernet.generate_key()"
   ]
  },
  {
   "cell_type": "markdown",
   "id": "070a0d9b-a61e-4f66-b2c0-40e8e1a75a51",
   "metadata": {},
   "source": [
    "# Encryption"
   ]
  },
  {
   "cell_type": "code",
   "execution_count": 2,
   "id": "8703de6b-5e54-46cb-bc33-2e3367ee3950",
   "metadata": {},
   "outputs": [
    {
     "data": {
      "text/plain": [
       "b'gAAAAABmqL8L70y45UOXhCVarunyEEUfyhcwQfLM7ALs_KTX1LAQIl7MxFdPGKTxVmkQWHOuFLpZb9e6Gm8eTg03pgxI_beISw=='"
      ]
     },
     "execution_count": 2,
     "metadata": {},
     "output_type": "execute_result"
    }
   ],
   "source": [
    "message = \"MyPassword\".encode()\n",
    "\n",
    "f = Fernet(key)\n",
    "encrypted = f.encrypt(message)  # Encrypt the bytes. The returning object is of type bytes\n",
    "encrypted"
   ]
  },
  {
   "cell_type": "markdown",
   "id": "3579ff10-c34f-4bed-9b44-74776b7e0b03",
   "metadata": {},
   "source": [
    "# Decryption"
   ]
  },
  {
   "cell_type": "code",
   "execution_count": 3,
   "id": "2ce12220-f3b7-4d11-a4c2-7c4e374b19a5",
   "metadata": {},
   "outputs": [
    {
     "data": {
      "text/plain": [
       "b'MyPassword'"
      ]
     },
     "execution_count": 3,
     "metadata": {},
     "output_type": "execute_result"
    }
   ],
   "source": [
    "from cryptography.fernet import Fernet\n",
    "\n",
    "f = Fernet(key)\n",
    "decrypted = f.decrypt(encrypted)  # Decrypt the bytes. The returning object is of type bytes\n",
    "decrypted"
   ]
  },
  {
   "cell_type": "markdown",
   "id": "4429ce17-8828-4387-9083-8daa5cd0dfdc",
   "metadata": {},
   "source": [
    "# Create File"
   ]
  },
  {
   "cell_type": "code",
   "execution_count": 4,
   "id": "a40e7294-62d1-4e9c-be88-c02e7db36cc4",
   "metadata": {},
   "outputs": [],
   "source": [
    "file = open('key.encrypted', 'wb')  # Open the file as wb to write bytes\n",
    "file.write(key)  # The key is type bytes still\n",
    "file.close()"
   ]
  },
  {
   "cell_type": "markdown",
   "id": "da603025-5c91-4258-aeec-914071bd4928",
   "metadata": {},
   "source": [
    "# Read File"
   ]
  },
  {
   "cell_type": "code",
   "execution_count": 5,
   "id": "9c743196-3fcf-473c-ab11-2aef3738d870",
   "metadata": {},
   "outputs": [],
   "source": [
    "file = open('key.encrypted', 'rb')  # Open the file as wb to read bytes\n",
    "key = file.read()  # The key will be type bytes\n",
    "file.close()"
   ]
  },
  {
   "cell_type": "markdown",
   "id": "39bd8dd5-7d67-445c-93cb-dd646428b801",
   "metadata": {},
   "source": [
    "# Function"
   ]
  },
  {
   "cell_type": "code",
   "execution_count": 6,
   "id": "681bcc39-e247-4c71-bf73-da076aa7fcb8",
   "metadata": {},
   "outputs": [
    {
     "data": {
      "text/plain": [
       "'41.0.4'"
      ]
     },
     "execution_count": 6,
     "metadata": {},
     "output_type": "execute_result"
    }
   ],
   "source": [
    "import cryptography\n",
    "cryptography.__version__"
   ]
  },
  {
   "cell_type": "code",
   "execution_count": 7,
   "id": "ca3cbbf9-304e-4c14-ac1a-64823285b4f8",
   "metadata": {},
   "outputs": [],
   "source": [
    "def create_encryption(password, key):    \n",
    "    \n",
    "    f = Fernet(key)\n",
    "    \n",
    "    password_encoded = password.encode()\n",
    "\n",
    "    encrypted = f.encrypt(password_encoded)\n",
    "    decrypted = f.decrypt(encrypted)\n",
    "    \n",
    "    print(f\"Byte: {password_encoded}\")\n",
    "    print(f\"String: {password}\")\n",
    "    print(f\"Encrypted: {encrypted}\")\n",
    "    print(f\"Decrypted: {decrypted.decode()}\")"
   ]
  },
  {
   "cell_type": "code",
   "execution_count": 8,
   "id": "22464e1c-6ace-4ec4-a702-f75a043edef2",
   "metadata": {},
   "outputs": [],
   "source": [
    "def decrypt(key, encrypted_password):\n",
    "    \"\"\"\n",
    "    key: String Format\n",
    "    encrypted_password: Byte Format\n",
    "    \"\"\"\n",
    "    f = Fernet(key)\n",
    "    decrypted = f.decrypt(encrypted_password)\n",
    "\n",
    "    return decrypted.decode()\n",
    "    "
   ]
  }
 ],
 "metadata": {
  "kernelspec": {
   "display_name": "ABR",
   "language": "python",
   "name": "abr"
  },
  "language_info": {
   "codemirror_mode": {
    "name": "ipython",
    "version": 3
   },
   "file_extension": ".py",
   "mimetype": "text/x-python",
   "name": "python",
   "nbconvert_exporter": "python",
   "pygments_lexer": "ipython3",
   "version": "3.10.8"
  }
 },
 "nbformat": 4,
 "nbformat_minor": 5
}
