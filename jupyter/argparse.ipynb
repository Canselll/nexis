{
 "cells": [
  {
   "cell_type": "code",
   "execution_count": 2,
   "id": "c453cf12-7b4a-4fd2-bde6-49ed1eb4d270",
   "metadata": {},
   "outputs": [
    {
     "name": "stdout",
     "output_type": "stream",
     "text": [
      "shell-init: error retrieving current directory: getcwd: cannot access parent directories: No such file or directory\n",
      "Traceback (most recent call last):\n",
      "  File \"/opt/conda/envs/abr/lib/python3.10/runpy.py\", line 196, in _run_module_as_main\n",
      "    return _run_code(code, main_globals, None,\n",
      "  File \"/opt/conda/envs/abr/lib/python3.10/runpy.py\", line 86, in _run_code\n",
      "    exec(code, run_globals)\n",
      "  File \"/opt/conda/envs/abr/lib/python3.10/site-packages/pip/__main__.py\", line 8, in <module>\n",
      "    if sys.path[0] in (\"\", os.getcwd()):\n",
      "FileNotFoundError: [Errno 2] No such file or directory\n",
      "Note: you may need to restart the kernel to use updated packages.\n"
     ]
    }
   ],
   "source": [
    "pip install argparse"
   ]
  },
  {
   "cell_type": "code",
   "execution_count": 4,
   "id": "31268192-45e0-45d9-88a7-515a00f2d7a3",
   "metadata": {},
   "outputs": [],
   "source": [
    "import argparse"
   ]
  },
  {
   "cell_type": "code",
   "execution_count": 5,
   "id": "65538816-3183-41b7-af7f-2319786b541f",
   "metadata": {},
   "outputs": [
    {
     "name": "stderr",
     "output_type": "stream",
     "text": [
      "usage: ipykernel_launcher.py [-h] --env ENV --key KEY\n",
      "ipykernel_launcher.py: error: the following arguments are required: --env, --key\n"
     ]
    },
    {
     "ename": "SystemExit",
     "evalue": "2",
     "output_type": "error",
     "traceback": [
      "An exception has occurred, use %tb to see the full traceback.\n",
      "\u001b[0;31mSystemExit\u001b[0m\u001b[0;31m:\u001b[0m 2\n"
     ]
    },
    {
     "name": "stderr",
     "output_type": "stream",
     "text": [
      "/opt/conda/envs/abr/lib/python3.10/site-packages/IPython/core/interactiveshell.py:3585: UserWarning: To exit: use 'exit', 'quit', or Ctrl-D.\n",
      "  warn(\"To exit: use 'exit', 'quit', or Ctrl-D.\", stacklevel=1)\n"
     ]
    }
   ],
   "source": [
    "# Anahtarınızı burada belirleyin (örneğin, bu anahtarı bir yerde saklayın)\n",
    "# Anahtarı bir dosyadan veya çevresel değişkenlerden de alabilirsiniz.\n",
    "key = b'ytrhgFTEDMW90vcB3lpyvCFHhoAMP1V8SV2JZUiMwQI='  # Bu key'i gerçek bir anahtar ile değiştirin\n",
    "\n",
    "# Komut satırı argümanlarını oluştur\n",
    "parser = argparse.ArgumentParser()\n",
    "\n",
    "# Argümanları ekle\n",
    "parser.add_argument('--env', type=str, required=True, help='Environment')\n",
    "parser.add_argument('--key', type=str, required=True, help='Encrypted key')\n",
    "\n",
    "# Argümanları parse et\n",
    "args = parser.parse_args()\n",
    "\n",
    "# Şifrelenmiş anahtarı çöz\n",
    "encrypted_key = args.key.encode()\n",
    "decrypted_key = decrypt_message(encrypted_key, key)\n",
    "\n",
    "# Çıktıyı yazdır\n",
    "print(f\"Environment: {args.env}\")\n",
    "print(f\"Decrypted Key: {decrypted_key}\")\n"
   ]
  },
  {
   "cell_type": "code",
   "execution_count": null,
   "id": "02aa2592-357d-491a-8e82-9b3f24935a25",
   "metadata": {},
   "outputs": [],
   "source": []
  }
 ],
 "metadata": {
  "kernelspec": {
   "display_name": "ABR",
   "language": "python",
   "name": "abr"
  },
  "language_info": {
   "codemirror_mode": {
    "name": "ipython",
    "version": 3
   },
   "file_extension": ".py",
   "mimetype": "text/x-python",
   "name": "python",
   "nbconvert_exporter": "python",
   "pygments_lexer": "ipython3",
   "version": "3.10.8"
  }
 },
 "nbformat": 4,
 "nbformat_minor": 5
}
